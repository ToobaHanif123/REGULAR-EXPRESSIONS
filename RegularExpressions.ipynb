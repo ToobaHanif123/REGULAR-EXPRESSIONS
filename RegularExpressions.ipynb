{
 "cells": [
  {
   "cell_type": "code",
   "execution_count": 1,
   "id": "517e8a49",
   "metadata": {},
   "outputs": [],
   "source": [
    "import re"
   ]
  },
  {
   "cell_type": "code",
   "execution_count": 2,
   "id": "340d134a",
   "metadata": {},
   "outputs": [
    {
     "name": "stdout",
     "output_type": "stream",
     "text": [
      "['A', 'ASCII', 'DEBUG', 'DOTALL', 'I', 'IGNORECASE', 'L', 'LOCALE', 'M', 'MULTILINE', 'Match', 'Pattern', 'RegexFlag', 'S', 'Scanner', 'T', 'TEMPLATE', 'U', 'UNICODE', 'VERBOSE', 'X', '_MAXCACHE', '__all__', '__builtins__', '__cached__', '__doc__', '__file__', '__loader__', '__name__', '__package__', '__spec__', '__version__', '_cache', '_compile', '_compile_repl', '_expand', '_locale', '_pickle', '_special_chars_map', '_subx', 'compile', 'copyreg', 'enum', 'error', 'escape', 'findall', 'finditer', 'fullmatch', 'functools', 'match', 'purge', 'search', 'split', 'sre_compile', 'sre_parse', 'sub', 'subn', 'template']\n"
     ]
    }
   ],
   "source": [
    "print(dir(re))"
   ]
  },
  {
   "cell_type": "markdown",
   "id": "556fa48a",
   "metadata": {},
   "source": [
    "## Make a Pattern"
   ]
  },
  {
   "cell_type": "code",
   "execution_count": 3,
   "id": "23519086",
   "metadata": {},
   "outputs": [
    {
     "name": "stdout",
     "output_type": "stream",
     "text": [
      "re.compile('[A]+[a-z]*', re.MULTILINE)\n",
      "<class 're.Pattern'>\n"
     ]
    }
   ],
   "source": [
    "eg = re.compile(r\"[A]+[a-z]*\", flags = re.M)\n",
    "\n",
    "print(eg)\n",
    "print(type(eg))"
   ]
  },
  {
   "cell_type": "markdown",
   "id": "7217dec9",
   "metadata": {},
   "source": [
    "## Search()method\n",
    "    search occurence at anywhere of the string"
   ]
  },
  {
   "cell_type": "code",
   "execution_count": 12,
   "id": "4148240c",
   "metadata": {},
   "outputs": [
    {
     "name": "stdout",
     "output_type": "stream",
     "text": [
      "<re.Match object; span=(0, 6), match='Ayesha'> <class 're.Match'>\n"
     ]
    }
   ],
   "source": [
    "str1 = \"Ayesha, Kinza, and Nimra are good at doing group studies. AAA is triple A's. Tooba Noor.\"\n",
    "#the regular expressions look for a string that starts with one or more uppercase 'A' alphabet, followed by zero or more lower case alphabets in multi-line mode.\n",
    "ex = re.compile(r\"[A]+[a-z]*\", flags = re.M)\n",
    "\n",
    "match = ex.search(str1)\n",
    "print(match, type(match))\n"
   ]
  },
  {
   "cell_type": "markdown",
   "id": "5fed85d1",
   "metadata": {},
   "source": [
    "## Match() Method \n",
    "    ocurrence at the begining of the string and if found returns a corresponding match and if not returns 'None'.\n",
    "   "
   ]
  },
  {
   "cell_type": "code",
   "execution_count": 14,
   "id": "6955fcc0",
   "metadata": {},
   "outputs": [
    {
     "name": "stdout",
     "output_type": "stream",
     "text": [
      "None <class 'NoneType'>\n"
     ]
    }
   ],
   "source": [
    "str2 = \"miss.Ayesha, Kinza, and Nimra are good at doing group studies. AAA is triple A's. Tooba Noor.\"\n",
    "#the regular expressions look for a string that starts with one or more uppercase 'A' alphabet, followed by zero or more lower case alphabets in multi-line mode.\n",
    "ex = re.compile(r\"[A]+[a-z]*\", flags = re.M)\n",
    "\n",
    "mrv = ex.match(str2)\n",
    "print(mrv, type(mrv))\n"
   ]
  },
  {
   "cell_type": "markdown",
   "id": "7bcce3b0",
   "metadata": {},
   "source": [
    "## findall() Method\n",
    "    -return all non-overlaping matches of pattern in string or tuples. the string is scanned left to right and matches are returned in order found. empty matches are included in the result.\n",
    "    \n",
    "    -if pattern does not match, it returns an empty list."
   ]
  },
  {
   "cell_type": "code",
   "execution_count": 16,
   "id": "422dfe91",
   "metadata": {},
   "outputs": [
    {
     "name": "stdout",
     "output_type": "stream",
     "text": [
      "['Ayesha', 'AAA', 'A'] <class 'list'>\n"
     ]
    }
   ],
   "source": [
    "str2 = \"miss.Ayesha, Kinza, and Nimra are good at doing group studies. AAA is triple A's. Tooba Noor.\"\n",
    "#the regular expressions look for a string that starts with one or more uppercase 'A' alphabet, followed by zero or more lower case alphabets in multi-line mode.\n",
    "ex = re.compile(r\"[A]+[a-z]*\", flags = re.M)\n",
    "\n",
    "mrv = ex.findall(str2)\n",
    "print(mrv, type(mrv))\n"
   ]
  },
  {
   "cell_type": "markdown",
   "id": "653a2be8",
   "metadata": {},
   "source": [
    "## finditer()\n",
    "    -returns the match object and iterator of the match object overall non-overlaping matches for RE pattern in the string. The string is scanned left to right and matches are returned in order found. Empty matches are included in the result.\n",
    " "
   ]
  },
  {
   "cell_type": "code",
   "execution_count": 26,
   "id": "cb644afe",
   "metadata": {},
   "outputs": [
    {
     "name": "stdout",
     "output_type": "stream",
     "text": [
      "<callable_iterator object at 0x000002802D8B43A0> <class 'callable_iterator'>\n"
     ]
    }
   ],
   "source": [
    "str3 = \"miss.Ayesha, Amna, Akinza, and Nimra are good at doing group studies. AAA is triple A's. Tooba Noor.\"\n",
    "#the regular expressions look for a string that starts with one or more uppercase 'A' alphabet, followed by zero or more lower case alphabets in multi-line mode.\n",
    "ex = re.compile(r\"[A]+[a-z]*\", flags = re.M)\n",
    "\n",
    "finds = ex.finditer(str3)\n",
    "print(finds, type(finds))\n"
   ]
  },
  {
   "cell_type": "code",
   "execution_count": 27,
   "id": "d1b64000",
   "metadata": {},
   "outputs": [
    {
     "name": "stdout",
     "output_type": "stream",
     "text": [
      "<re.Match object; span=(5, 11), match='Ayesha'>\n",
      "<re.Match object; span=(13, 17), match='Amna'>\n",
      "<re.Match object; span=(19, 25), match='Akinza'>\n",
      "<re.Match object; span=(70, 73), match='AAA'>\n",
      "<re.Match object; span=(84, 85), match='A'>\n"
     ]
    }
   ],
   "source": [
    "for i in finds:\n",
    "    print(i)"
   ]
  },
  {
   "cell_type": "markdown",
   "id": "58bcf2bb",
   "metadata": {},
   "source": [
    "## group() method\n",
    "    -returns sub-groups of the match if they exist. By default it returns the entire match.\n"
   ]
  },
  {
   "cell_type": "code",
   "execution_count": 28,
   "id": "93567d31",
   "metadata": {},
   "outputs": [
    {
     "name": "stdout",
     "output_type": "stream",
     "text": [
      "<callable_iterator object at 0x000002802D8B45B0> <class 'callable_iterator'>\n"
     ]
    }
   ],
   "source": [
    "str3 = \"miss.Ayesha, Amna, Akinza, and Nimra are good at doing group studies. AAA is triple A's. Tooba Noor.\"\n",
    "#the regular expressions look for a string that starts with one or more uppercase 'A' alphabet, followed by zero or more lower case alphabets in multi-line mode.\n",
    "ex = re.compile(r\"[A]+[a-z]*\", flags = re.M)\n",
    "\n",
    "finds = ex.finditer(str3)\n",
    "print(finds, type(finds))\n"
   ]
  },
  {
   "cell_type": "code",
   "execution_count": 29,
   "id": "531c5874",
   "metadata": {},
   "outputs": [
    {
     "name": "stdout",
     "output_type": "stream",
     "text": [
      "Ayesha\n",
      "Amna\n",
      "Akinza\n",
      "AAA\n",
      "A\n"
     ]
    }
   ],
   "source": [
    "for m in finds:\n",
    "    print(m.group())"
   ]
  },
  {
   "cell_type": "markdown",
   "id": "2ef82789",
   "metadata": {},
   "source": [
    "## span() method\n",
    "    -returns the 2-tupe containg the start and end index(where end index noot inclusive)"
   ]
  },
  {
   "cell_type": "code",
   "execution_count": 30,
   "id": "beec0ebd",
   "metadata": {},
   "outputs": [
    {
     "name": "stdout",
     "output_type": "stream",
     "text": [
      "(5, 11)\n",
      "(13, 17)\n",
      "(19, 25)\n",
      "(70, 73)\n",
      "(84, 85)\n"
     ]
    }
   ],
   "source": [
    "str3 = \"miss.Ayesha, Amna, Akinza, and Nimra are good at doing group studies. AAA is triple A's. Tooba Noor.\"\n",
    "#the regular expressions look for a string that starts with one or more uppercase 'A' alphabet, followed by zero or more lower case alphabets in multi-line mode.\n",
    "ex = re.compile(r\"[A]+[a-z]*\", flags = re.M)\n",
    "\n",
    "finds = ex.finditer(str3)\n",
    "\n",
    "for s in finds:\n",
    "    print(s.span())"
   ]
  },
  {
   "cell_type": "code",
   "execution_count": 31,
   "id": "70e61920",
   "metadata": {},
   "outputs": [
    {
     "name": "stdout",
     "output_type": "stream",
     "text": [
      "5\n",
      "13\n",
      "19\n",
      "70\n",
      "84\n"
     ]
    }
   ],
   "source": [
    "str3 = \"miss.Ayesha, Amna, Akinza, and Nimra are good at doing group studies. AAA is triple A's. Tooba Noor.\"\n",
    "#the regular expressions look for a string that starts with one or more uppercase 'A' alphabet, followed by zero or more lower case alphabets in multi-line mode.\n",
    "ex = re.compile(r\"[A]+[a-z]*\", flags = re.M)\n",
    "\n",
    "finds = ex.finditer(str3)\n",
    "\n",
    "for s in finds:\n",
    "    print(s.start())"
   ]
  },
  {
   "cell_type": "code",
   "execution_count": 32,
   "id": "c790e802",
   "metadata": {},
   "outputs": [
    {
     "name": "stdout",
     "output_type": "stream",
     "text": [
      "11\n",
      "17\n",
      "25\n",
      "73\n",
      "85\n"
     ]
    }
   ],
   "source": [
    "str3 = \"miss.Ayesha, Amna, Akinza, and Nimra are good at doing group studies. AAA is triple A's. Tooba Noor.\"\n",
    "#the regular expressions look for a string that starts with one or more uppercase 'A' alphabet, followed by zero or more lower case alphabets in multi-line mode.\n",
    "ex = re.compile(r\"[A]+[a-z]*\", flags = re.M)\n",
    "\n",
    "finds = ex.finditer(str3)\n",
    "\n",
    "for s in finds:\n",
    "    print(s.end())"
   ]
  },
  {
   "cell_type": "markdown",
   "id": "b6bcbf78",
   "metadata": {},
   "source": [
    "# Practical Example"
   ]
  },
  {
   "cell_type": "markdown",
   "id": "bfd8325f",
   "metadata": {},
   "source": [
    "all practice txt files are taken from https://github.com/arifpucit/data-science/tree/master/Section-2-Basics-of-Python-Programming/Lec-2.18-Regular-Expressions-in-Python/datasets"
   ]
  },
  {
   "cell_type": "markdown",
   "id": "5e19069f",
   "metadata": {},
   "source": []
  },
  {
   "cell_type": "code",
   "execution_count": 35,
   "id": "6d06c331",
   "metadata": {},
   "outputs": [
    {
     "name": "stdout",
     "output_type": "stream",
     "text": [
      "Mr. Arif Butt\n",
      "615-555-7164\n",
      "131 Model Town, Lahore\n",
      "01-04-1975\n",
      "arifpucit@gmail.com\n",
      "http://www.arifbutt.me\n",
      "\n",
      "\n",
      "Mrs. Nasira Jadoon\n",
      "317.615.9124\n",
      "33 Garden Town, Lahore\n",
      "20/02/1969\n",
      "nasira-123@gmail.com\n",
      "http://nasira.pu.edu.pk\n",
      "\n",
      "\n",
      "\n",
      "Mr. Khurram Shahzad\n",
      "321#521#9254\n",
      "69, A Wapda Town, Lahore\n",
      "12.09.1985\n",
      "khurram3@yahoo.com\n",
      "https://www.khurram.pu.edu.pk\n",
      "\n",
      "\n",
      "Ms Aqsa\n",
      "123.555.1997\n",
      "56 Joher Town, Lahore\n",
      "12/08/2001\n",
      "aqsa_007@gmail.com\n",
      "http://youtube.com\n",
      "\n",
      "Mr. B\n",
      "321-555-4321\n",
      "19 Township, Lahore\n",
      "05-07-2002\n",
      "mrB@yahoo.com\n",
      "http://facebook.com\n"
     ]
    }
   ],
   "source": [
    "with open(\"names_addresses.txt\", \"r\") as fd:\n",
    "    print(fd.read())"
   ]
  },
  {
   "cell_type": "code",
   "execution_count": 37,
   "id": "fd6c438f",
   "metadata": {},
   "outputs": [
    {
     "data": {
      "text/plain": [
       "'Mr. Arif Butt\\n615-555-7164\\n131 Model Town, Lahore\\n01-04-1975\\narifpucit@gmail.com\\nhttp://www.arifbutt.me\\n\\n\\nMrs. Nasira Jadoon\\n317.615.9124\\n33 Garden Town, Lahore\\n20/02/1969\\nnasira-123@gmail.com\\nhttp://nasira.pu.edu.pk\\n\\n\\n\\nMr. Khurram Shahzad\\n321#521#9254\\n69, A Wapda Town, Lahore\\n12.09.1985\\nkhurram3@yahoo.com\\nhttps://www.khurram.pu.edu.pk\\n\\n\\nMs Aqsa\\n123.555.1997\\n56 Joher Town, Lahore\\n12/08/2001\\naqsa_007@gmail.com\\nhttp://youtube.com\\n\\nMr. B\\n321-555-4321\\n19 Township, Lahore\\n05-07-2002\\nmrB@yahoo.com\\nhttp://facebook.com'"
      ]
     },
     "execution_count": 37,
     "metadata": {},
     "output_type": "execute_result"
    }
   ],
   "source": [
    "with open(\"names_addresses.txt\", \"r\") as fd:\n",
    "    teststr = fd.read()\n",
    "teststr"
   ]
  },
  {
   "cell_type": "markdown",
   "id": "4c94c68f",
   "metadata": {},
   "source": [
    "### a.Extracting Names\n",
    " -  Assume that every name starts with Mr. or Mrs, with and optional dot, a space and then followed by alphanumeric characters."
   ]
  },
  {
   "cell_type": "code",
   "execution_count": 38,
   "id": "024f536b",
   "metadata": {},
   "outputs": [
    {
     "name": "stdout",
     "output_type": "stream",
     "text": [
      "<re.Match object; span=(0, 8), match='Mr. Arif'>\n",
      "<re.Match object; span=(106, 117), match='Mrs. Nasira'>\n",
      "<re.Match object; span=(220, 231), match='Mr. Khurram'>\n",
      "<re.Match object; span=(340, 347), match='Ms Aqsa'>\n",
      "<re.Match object; span=(433, 438), match='Mr. B'>\n"
     ]
    }
   ],
   "source": [
    "# making pattern \n",
    "pattern = re.compile(r\"(Mr|Mrs|Ms)\\.?\\s\\w+\")\n",
    "\n",
    "#teststr contains data read from a file\n",
    "matches = pattern.finditer(teststr)\n",
    "\n",
    "for match in matches:\n",
    "    print(match)"
   ]
  },
  {
   "cell_type": "code",
   "execution_count": 39,
   "id": "41a88557",
   "metadata": {},
   "outputs": [
    {
     "name": "stdout",
     "output_type": "stream",
     "text": [
      "Mr. Arif\n",
      "Mrs. Nasira\n",
      "Mr. Khurram\n",
      "Ms Aqsa\n",
      "Mr. B\n"
     ]
    }
   ],
   "source": [
    "# making pattern \n",
    "pattern = re.compile(r\"(Mr|Mrs|Ms)\\.?\\s\\w+\")\n",
    "\n",
    "#teststr contains data read from a file\n",
    "matches = pattern.finditer(teststr)\n",
    "\n",
    "for match in matches:\n",
    "    print(match.group())"
   ]
  },
  {
   "cell_type": "code",
   "execution_count": 43,
   "id": "d18356ba",
   "metadata": {},
   "outputs": [
    {
     "name": "stdout",
     "output_type": "stream",
     "text": [
      "Mr. Arif Butt\n",
      "Mrs. Nasira Jadoon\n",
      "Mr. Khurram Shahzad\n",
      "Ms Aqsa\n",
      "\n",
      "Mr. B\n",
      "\n"
     ]
    }
   ],
   "source": [
    "# making pattern \n",
    "pattern = re.compile(r\"(Mr|Mrs|Ms)\\.?\\s\\w+\\s[A-Za-z]*\")\n",
    "\n",
    "#teststr contains data read from a file\n",
    "matches = pattern.finditer(teststr)\n",
    "\n",
    "for match in matches:\n",
    "    print(match.group())"
   ]
  },
  {
   "cell_type": "code",
   "execution_count": 55,
   "id": "d7045811",
   "metadata": {},
   "outputs": [
    {
     "name": "stdout",
     "output_type": "stream",
     "text": [
      "01-04-1975\n",
      "20/02/1969\n",
      "12.09.1985\n",
      "12/08/2001\n",
      "05-07-2002\n"
     ]
    }
   ],
   "source": [
    "#pattern for extracting date of birth\n",
    "\n",
    "pat2 = re.compile(r\"(\\d{2}).(\\d{2}).(\\d{4})\")\n",
    "\n",
    "matches2 = pat2.finditer(teststr)\n",
    "\n",
    "for i in matches2:\n",
    "    print(i.group())#return date"
   ]
  },
  {
   "cell_type": "code",
   "execution_count": 56,
   "id": "7d4dfb2d",
   "metadata": {},
   "outputs": [
    {
     "name": "stdout",
     "output_type": "stream",
     "text": [
      "01\n",
      "20\n",
      "12\n",
      "12\n",
      "05\n"
     ]
    }
   ],
   "source": [
    "#pattern for extracting date of birth\n",
    "\n",
    "pat2 = re.compile(r\"(\\d{2}).(\\d{2}).(\\d{4})\")\n",
    "\n",
    "matches2 = pat2.finditer(teststr)\n",
    "\n",
    "for i in matches2:\n",
    "    print(i.group(1))"
   ]
  },
  {
   "cell_type": "code",
   "execution_count": 57,
   "id": "a6c0b5ef",
   "metadata": {},
   "outputs": [
    {
     "name": "stdout",
     "output_type": "stream",
     "text": [
      "04\n",
      "02\n",
      "09\n",
      "08\n",
      "07\n"
     ]
    }
   ],
   "source": [
    "#pattern for extracting date of birth\n",
    "\n",
    "pat2 = re.compile(r\"(\\d{2}).(\\d{2}).(\\d{4})\")\n",
    "\n",
    "matches2 = pat2.finditer(teststr)\n",
    "\n",
    "for i in matches2:\n",
    "    print(i.group(2))#return months"
   ]
  },
  {
   "cell_type": "code",
   "execution_count": 58,
   "id": "1dc20119",
   "metadata": {},
   "outputs": [
    {
     "name": "stdout",
     "output_type": "stream",
     "text": [
      "1975\n",
      "1969\n",
      "1985\n",
      "2001\n",
      "2002\n"
     ]
    }
   ],
   "source": [
    "#pattern for extracting date of birth\n",
    "\n",
    "pat2 = re.compile(r\"(\\d{2}).(\\d{2}).(\\d{4})\")\n",
    "\n",
    "matches2 = pat2.finditer(teststr)\n",
    "\n",
    "for i in matches2:\n",
    "    print(i.group(3))#return years"
   ]
  },
  {
   "cell_type": "markdown",
   "id": "ca5d0b7e",
   "metadata": {},
   "source": [
    "### Extracting Emails and Usernames and URLs:"
   ]
  },
  {
   "cell_type": "code",
   "execution_count": 74,
   "id": "5f2eafed",
   "metadata": {},
   "outputs": [
    {
     "data": {
      "text/plain": [
       "'Mr. Arif Butt\\n615-555-7164\\n131 Model Town, Lahore\\n01-04-1975\\narifpucit@gmail.com\\nhttp://www.arifbutt.me\\n\\n\\nMrs. Nasira Jadoon\\n317.615.9124\\n33 Garden Town, Lahore\\n20/02/1969\\nnasira-123@gmail.com\\nhttp://nasira.pu.edu.pk\\n\\n\\n\\nMr. Khurram Shahzad\\n321#521#9254\\n69, A Wapda Town, Lahore\\n12.09.1985\\nkhurram3@yahoo.com\\nhttps://www.khurram.pu.edu.pk\\n\\n\\nMs Aqsa\\n123.555.1997\\n56 Joher Town, Lahore\\n12/08/2001\\naqsa_007@gmail.com\\nhttp://youtube.com\\n\\nMr. B\\n321-555-4321\\n19 Township, Lahore\\n05-07-2002\\nmrB@yahoo.com\\nhttp://facebook.com'"
      ]
     },
     "execution_count": 74,
     "metadata": {},
     "output_type": "execute_result"
    }
   ],
   "source": [
    "with open(\"names_addresses.txt\", \"r\") as fd:\n",
    "    teststr = fd.read()\n",
    "teststr"
   ]
  },
  {
   "cell_type": "code",
   "execution_count": 85,
   "id": "a74a768b",
   "metadata": {},
   "outputs": [
    {
     "name": "stdout",
     "output_type": "stream",
     "text": [
      "arifpucit@gmail.com\n",
      "nasira-123@gmail.com\n",
      "khurram3@yahoo.com\n",
      "aqsa_007@gmail.com\n",
      "mrB@yahoo.com\n"
     ]
    }
   ],
   "source": [
    "pattern = re.compile(r'[a-zA-Z0-9_.+-]+@[a-zA-Z0-9-]+\\.[a-z]{2,3}')\n",
    "\n",
    "#teststring contains data read from file\n",
    "matches = pattern.finditer(teststr)\n",
    "\n",
    "for match in matches:\n",
    "    print(match.group())"
   ]
  },
  {
   "cell_type": "code",
   "execution_count": 86,
   "id": "aa2e32ad",
   "metadata": {},
   "outputs": [
    {
     "name": "stdout",
     "output_type": "stream",
     "text": [
      "arifpucit@gmail.com\n",
      "nasira-123@gmail.com\n",
      "khurram3@yahoo.com\n",
      "aqsa_007@gmail.com\n",
      "mrB@yahoo.com\n"
     ]
    }
   ],
   "source": [
    "pat3 = re.compile(r\"[a-zA-Z0-9_.+-]+@[a-zA-Z0-9-]+\\.[a-z]{2,3}\")\n",
    "\n",
    "matches3 = pat3.finditer(teststr)\n",
    "for match in matches3:\n",
    "    print(match.group())"
   ]
  },
  {
   "cell_type": "code",
   "execution_count": 88,
   "id": "39c8f427",
   "metadata": {},
   "outputs": [
    {
     "name": "stdout",
     "output_type": "stream",
     "text": [
      "arifpucit\n",
      "nasira-123\n",
      "khurram3\n",
      "aqsa_007\n",
      "mrB\n"
     ]
    }
   ],
   "source": [
    "pat3 = re.compile(r\"([a-zA-Z0-9_.+-]+)@([a-zA-Z0-9-]+\\.)([a-z]{2,3})\")\n",
    "\n",
    "matches3 = pat3.finditer(teststr)\n",
    "\n",
    "for match in matches3:\n",
    "    print(match.group(1))"
   ]
  },
  {
   "cell_type": "code",
   "execution_count": 73,
   "id": "2fe275e0",
   "metadata": {},
   "outputs": [
    {
     "name": "stdout",
     "output_type": "stream",
     "text": [
      "http://www.arifbutt.me\n",
      "http://nasira.pu\n",
      "https://www.khurram.pu\n",
      "http://youtube.com\n",
      "http://facebook.com\n"
     ]
    }
   ],
   "source": [
    "pat4 = re.compile(r\"https?://(www\\.)?(\\w+)(\\.\\w*)\")\n",
    "\n",
    "matches4 = pat4.finditer(teststr)\n",
    "\n",
    "for e in matches4:\n",
    "    print(e.group())"
   ]
  },
  {
   "cell_type": "code",
   "execution_count": 96,
   "id": "197d1dbd",
   "metadata": {},
   "outputs": [
    {
     "name": "stdout",
     "output_type": "stream",
     "text": [
      ".me\n",
      ".pu\n",
      ".pu\n",
      ".com\n",
      ".com\n"
     ]
    }
   ],
   "source": [
    "pat4 = re.compile(r\"https?://(www\\.)?(\\w+)(\\.\\w*)\")\n",
    "\n",
    "matches4 = pat4.finditer(teststr)\n",
    "\n",
    "for e in matches4:\n",
    "    print(e.group(3))"
   ]
  },
  {
   "cell_type": "markdown",
   "id": "be6b63d7",
   "metadata": {},
   "source": [
    "### Extracting valid phone numbers"
   ]
  },
  {
   "cell_type": "code",
   "execution_count": 95,
   "id": "3d23fda1",
   "metadata": {},
   "outputs": [
    {
     "name": "stdout",
     "output_type": "stream",
     "text": [
      "615-555-7164\n",
      "317.615.9124\n",
      "123.555.1997\n",
      "321-555-4321\n"
     ]
    }
   ],
   "source": [
    "pat5 = re.compile(r\"(\\d{3}[./-])(\\d{3})([./-]\\d{4})\")\n",
    "\n",
    "matches5 = pat5.finditer(teststr)\n",
    "\n",
    "for numbers in matches5:\n",
    "    print(numbers.group())"
   ]
  },
  {
   "cell_type": "markdown",
   "id": "2e0a9810",
   "metadata": {},
   "source": [
    "## Modify strings"
   ]
  },
  {
   "cell_type": "markdown",
   "id": "dd20157d",
   "metadata": {},
   "source": [
    "## split() method:\n",
    " -  this method splites the target string as per the regular expression pattern, and the matches are returned in the form of a list."
   ]
  },
  {
   "cell_type": "code",
   "execution_count": 98,
   "id": "93d85451",
   "metadata": {},
   "outputs": [
    {
     "data": {
      "text/plain": [
       "['My',\n",
       " 'name',\n",
       " 'is',\n",
       " 'Tooba',\n",
       " 'Noor',\n",
       " 'and',\n",
       " 'my',\n",
       " 'subject',\n",
       " 'is',\n",
       " 'data',\n",
       " 'science',\n",
       " '',\n",
       " '',\n",
       " 'in',\n",
       " 'year',\n",
       " '1',\n",
       " 'and',\n",
       " 'semester',\n",
       " '2']"
      ]
     },
     "execution_count": 98,
     "metadata": {},
     "output_type": "execute_result"
    }
   ],
   "source": [
    "mystring = 'My name is Tooba Noor and my subject is data science   in year 1 and semester 2'\n",
    "\n",
    "mlist = mystring.split(sep = ' ')\n",
    "mlist"
   ]
  },
  {
   "cell_type": "code",
   "execution_count": 101,
   "id": "2ad7b320",
   "metadata": {},
   "outputs": [
    {
     "name": "stdout",
     "output_type": "stream",
     "text": [
      "['My', 'name', 'is', 'Tooba', 'Noor', 'and', 'my', 'subject', 'is', 'data', 'science', 'in', 'year', '1', 'and', 'semester', '2']\n"
     ]
    }
   ],
   "source": [
    "mystring = 'My name is Tooba Noor and my subject is data science   in year 1 and semester 2'\n",
    "\n",
    "pa = re.compile(\"\\s+\")\n",
    "\n",
    "word_list = pa.split(mystring)\n",
    "\n",
    "print(word_list)"
   ]
  },
  {
   "cell_type": "code",
   "execution_count": 102,
   "id": "47222131",
   "metadata": {},
   "outputs": [
    {
     "name": "stdout",
     "output_type": "stream",
     "text": [
      "['12', '45', '78', '85', '17', '89']\n"
     ]
    }
   ],
   "source": [
    "mstring1 = \"12,45,78,85-17-89\"\n",
    "\n",
    "pa1 = re.compile(r\"-|,\")\n",
    "pa1 = re.compile(r\"[-,]\")\n",
    "\n",
    "wordlist = pa1.split(mstring1)\n",
    "\n",
    "print(wordlist)"
   ]
  },
  {
   "cell_type": "code",
   "execution_count": 103,
   "id": "be0b9bf9",
   "metadata": {},
   "outputs": [
    {
     "name": "stdout",
     "output_type": "stream",
     "text": [
      "['12', '45', '78', '85', '17', '89', '97', '54']\n"
     ]
    }
   ],
   "source": [
    "mstring2 = \"12,45, 78and85-17and89-97,54\"\n",
    "\n",
    "pa1 = re.compile(r\"and|[\\s,-]+\")\n",
    "\n",
    "\n",
    "wordlist = pa1.split(mstring2)\n",
    "\n",
    "print(wordlist)"
   ]
  },
  {
   "cell_type": "markdown",
   "id": "65c7db39",
   "metadata": {},
   "source": [
    "#### The maximum parameter of split() is used to define how many splites you want to perform. In simple words, if the maxsplit is 2. them two splits will be done and the remainder of the string is returned as the final element of list."
   ]
  },
  {
   "cell_type": "code",
   "execution_count": 104,
   "id": "c55c5d1a",
   "metadata": {},
   "outputs": [
    {
     "name": "stdout",
     "output_type": "stream",
     "text": [
      "['My', 'name', 'is Tooba Noor and my subject is data science   in year 1 and semester 2']\n"
     ]
    }
   ],
   "source": [
    "mystring = 'My name is Tooba Noor and my subject is data science   in year 1 and semester 2'\n",
    "\n",
    "pa = re.compile(\"\\s+\")\n",
    "\n",
    "word_list = pa.split(mystring, maxsplit = 2)\n",
    "\n",
    "print(word_list)"
   ]
  },
  {
   "cell_type": "code",
   "execution_count": 105,
   "id": "1149e185",
   "metadata": {},
   "outputs": [
    {
     "name": "stdout",
     "output_type": "stream",
     "text": [
      "['12', '45', '78', '85', '17and89-97,54']\n"
     ]
    }
   ],
   "source": [
    "mstring2 = \"12,45, 78and85-17and89-97,54\"\n",
    "\n",
    "pa1 = re.compile(r\"and|[\\s,-]+\")\n",
    "\n",
    "\n",
    "wordlist = pa1.split(mstring2, maxsplit = 4)\n",
    "\n",
    "print(wordlist)"
   ]
  },
  {
   "cell_type": "markdown",
   "id": "2fbeb0d7",
   "metadata": {},
   "source": [
    "## sub() and subn() method:\n",
    "-  both are used to search the pattern and replace patterns in the string\n",
    "-  while the sub method returns the string obtained by replacing the left most non-overlaping occurrences of the pattern in a string by replacement repl."
   ]
  },
  {
   "cell_type": "code",
   "execution_count": 107,
   "id": "9e29c56b",
   "metadata": {},
   "outputs": [
    {
     "name": "stdout",
     "output_type": "stream",
     "text": [
      "My_name_is_Tooba_Noor_and_my_subject_is_data_science_in_year_1_and_semester_2\n"
     ]
    }
   ],
   "source": [
    "mstr2 = 'My name is Tooba Noor and my subject is data science   in year 1 and semester 2'\n",
    "\n",
    "pa = re.compile(\"\\s+\")\n",
    "\n",
    "mlist = pa.sub(\"_\", mstr2)\n",
    "\n",
    "print(mlist)"
   ]
  },
  {
   "cell_type": "code",
   "execution_count": 108,
   "id": "23ef1cd2",
   "metadata": {},
   "outputs": [
    {
     "name": "stdout",
     "output_type": "stream",
     "text": [
      "MynameisToobaNoorandmysubjectisdatascienceinyear1andsemester2\n"
     ]
    }
   ],
   "source": [
    "mstr2 = 'My name is Tooba Noor and my subject is data science   in year 1 and semester 2'\n",
    "\n",
    "pa = re.compile(\"\\s+\")\n",
    "\n",
    "mlist = pa.sub(\"\", mstr2)\n",
    "\n",
    "print(mlist)"
   ]
  },
  {
   "cell_type": "code",
   "execution_count": 112,
   "id": "b9a3f508",
   "metadata": {},
   "outputs": [
    {
     "name": "stdout",
     "output_type": "stream",
     "text": [
      "Learning is fun with arif butt           \t\n"
     ]
    }
   ],
   "source": [
    "mstr3 = \"                Learning is fun with arif butt           \\t\"\n",
    "a = re.compile(r\"^\\s+\")\n",
    "\n",
    "#remove leading spaces ^\\s+\n",
    "#removes trailing spaces ^\\s+$\n",
    "mlist2 = a.sub(\"\", mstr3)\n",
    "\n",
    "print(mlist2)"
   ]
  },
  {
   "cell_type": "code",
   "execution_count": null,
   "id": "9bc867ff",
   "metadata": {},
   "outputs": [],
   "source": []
  },
  {
   "cell_type": "code",
   "execution_count": null,
   "id": "5e704e46",
   "metadata": {},
   "outputs": [],
   "source": []
  }
 ],
 "metadata": {
  "kernelspec": {
   "display_name": "Python 3 (ipykernel)",
   "language": "python",
   "name": "python3"
  },
  "language_info": {
   "codemirror_mode": {
    "name": "ipython",
    "version": 3
   },
   "file_extension": ".py",
   "mimetype": "text/x-python",
   "name": "python",
   "nbconvert_exporter": "python",
   "pygments_lexer": "ipython3",
   "version": "3.9.13"
  }
 },
 "nbformat": 4,
 "nbformat_minor": 5
}
